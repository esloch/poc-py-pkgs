{
 "cells": [
  {
   "cell_type": "code",
   "execution_count": 1,
   "id": "3908aefd-15e9-4f17-98f5-2a808725a189",
   "metadata": {},
   "outputs": [
    {
     "ename": "ModuleNotFoundError",
     "evalue": "No module named 'sound'",
     "output_type": "error",
     "traceback": [
      "\u001b[0;31m---------------------------------------------------------------------------\u001b[0m",
      "\u001b[0;31mModuleNotFoundError\u001b[0m                       Traceback (most recent call last)",
      "\u001b[0;32m/tmp/ipykernel_51346/1121033076.py\u001b[0m in \u001b[0;36m<module>\u001b[0;34m\u001b[0m\n\u001b[0;32m----> 1\u001b[0;31m \u001b[0;32mimport\u001b[0m \u001b[0msound\u001b[0m\u001b[0;34m\u001b[0m\u001b[0;34m\u001b[0m\u001b[0m\n\u001b[0m",
      "\u001b[0;31mModuleNotFoundError\u001b[0m: No module named 'sound'"
     ]
    }
   ],
   "source": [
    "import sound"
   ]
  },
  {
   "cell_type": "code",
   "execution_count": 2,
   "id": "f2a89997-65a1-4961-9413-640e201719de",
   "metadata": {},
   "outputs": [],
   "source": [
    "from sound.effects.echo import echofilter\n"
   ]
  },
  {
   "cell_type": "code",
   "execution_count": 3,
   "id": "16bb425c-d008-44dc-8e4d-4d11d2b10af8",
   "metadata": {},
   "outputs": [
    {
     "name": "stdout",
     "output_type": "stream",
     "text": [
      "13.2\n"
     ]
    }
   ],
   "source": [
    "echofilter(5, 6, delay=0.7, atten=4)"
   ]
  },
  {
   "cell_type": "code",
   "execution_count": 1,
   "id": "0f6a30b0-3d74-4e73-b67d-870a2c0bf1e3",
   "metadata": {},
   "outputs": [],
   "source": [
    "from esloch import sound"
   ]
  },
  {
   "cell_type": "code",
   "execution_count": 5,
   "id": "4c7c5b9c-00e6-4f78-89cc-89e0f380c89c",
   "metadata": {},
   "outputs": [],
   "source": [
    "from esloch.sound.effects.echo import echofilter\n"
   ]
  },
  {
   "cell_type": "code",
   "execution_count": 6,
   "id": "39deb723-e7e5-46f0-9879-1c5c681204b0",
   "metadata": {},
   "outputs": [
    {
     "name": "stdout",
     "output_type": "stream",
     "text": [
      "20\n"
     ]
    }
   ],
   "source": [
    "echofilter(5, 5, delay=1, atten=10)"
   ]
  },
  {
   "cell_type": "code",
   "execution_count": 2,
   "id": "f37d8073-af03-4f30-9c8c-6a77fbcc9d11",
   "metadata": {},
   "outputs": [],
   "source": [
    "import crawlclima"
   ]
  },
  {
   "cell_type": "code",
   "execution_count": 6,
   "id": "43702150-3400-4b78-a2f7-809fd5aeb3a7",
   "metadata": {},
   "outputs": [],
   "source": [
    "from crawlclima import tasks"
   ]
  },
  {
   "cell_type": "code",
   "execution_count": 8,
   "id": "1323f202-7a4f-4459-a51b-591248568922",
   "metadata": {},
   "outputs": [
    {
     "data": {
      "text/plain": [
       "200"
      ]
     },
     "execution_count": 8,
     "metadata": {},
     "output_type": "execute_result"
    }
   ],
   "source": [
    "tasks.pega_tweets(\"2021-10-01\", \"2021-11-20\", [\"3304557\", \"3303302\"])"
   ]
  },
  {
   "cell_type": "code",
   "execution_count": null,
   "id": "b4905032-6e22-4823-8d5a-caed8315927f",
   "metadata": {},
   "outputs": [],
   "source": [
    "# SBAF -i 2021-09-28 -f 2021-10-01 "
   ]
  },
  {
   "cell_type": "code",
   "execution_count": 5,
   "id": "aea53ff5-5849-4dac-8b57-80ae2775b963",
   "metadata": {},
   "outputs": [
    {
     "ename": "AttributeError",
     "evalue": "module 'crawlclima' has no attribute 'dir'",
     "output_type": "error",
     "traceback": [
      "\u001b[0;31m---------------------------------------------------------------------------\u001b[0m",
      "\u001b[0;31mAttributeError\u001b[0m                            Traceback (most recent call last)",
      "\u001b[0;32m/tmp/ipykernel_74427/1206964404.py\u001b[0m in \u001b[0;36m<module>\u001b[0;34m\u001b[0m\n\u001b[0;32m----> 1\u001b[0;31m \u001b[0mcrawlclima\u001b[0m\u001b[0;34m.\u001b[0m\u001b[0mdir\u001b[0m\u001b[0;34m(\u001b[0m\u001b[0;34m)\u001b[0m\u001b[0;34m\u001b[0m\u001b[0;34m\u001b[0m\u001b[0m\n\u001b[0m",
      "\u001b[0;31mAttributeError\u001b[0m: module 'crawlclima' has no attribute 'dir'"
     ]
    }
   ],
   "source": [
    "crawlclima.dir()"
   ]
  },
  {
   "cell_type": "code",
   "execution_count": null,
   "id": "7d88e81b-4ca4-4ea3-a848-3bbba6c901a1",
   "metadata": {},
   "outputs": [],
   "source": []
  }
 ],
 "metadata": {
  "kernelspec": {
   "display_name": "Python 3 (ipykernel)",
   "language": "python",
   "name": "python3"
  },
  "language_info": {
   "codemirror_mode": {
    "name": "ipython",
    "version": 3
   },
   "file_extension": ".py",
   "mimetype": "text/x-python",
   "name": "python",
   "nbconvert_exporter": "python",
   "pygments_lexer": "ipython3",
   "version": "3.9.7"
  }
 },
 "nbformat": 4,
 "nbformat_minor": 5
}
